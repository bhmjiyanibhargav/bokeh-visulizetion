{
 "cells": [
  {
   "cell_type": "markdown",
   "id": "3bfa97a2",
   "metadata": {},
   "source": [
    "# question 01"
   ]
  },
  {
   "cell_type": "markdown",
   "id": "460c64b5",
   "metadata": {},
   "source": [
    "Import the necessary Bokeh modules:\n",
    "python\n"
   ]
  },
  {
   "cell_type": "code",
   "execution_count": 1,
   "id": "d5e6c0c7",
   "metadata": {},
   "outputs": [],
   "source": [
    "from bokeh.plotting import figure, output_file, show"
   ]
  },
  {
   "cell_type": "markdown",
   "id": "2a61c842",
   "metadata": {},
   "source": [
    "Create a new figure object:"
   ]
  },
  {
   "cell_type": "code",
   "execution_count": 2,
   "id": "67a4ce11",
   "metadata": {},
   "outputs": [],
   "source": [
    "p = figure()"
   ]
  },
  {
   "cell_type": "markdown",
   "id": "e88865c5",
   "metadata": {},
   "source": [
    "Add glyphs to the figure object using glyph methods, such as p.line(), p.circle(), p.square(), etc.:"
   ]
  },
  {
   "cell_type": "code",
   "execution_count": 4,
   "id": "046f7d37",
   "metadata": {},
   "outputs": [
    {
     "data": {
      "text/html": [
       "<div style=\"display: table;\"><div style=\"display: table-row;\"><div style=\"display: table-cell;\"><b title=\"bokeh.models.renderers.GlyphRenderer\">GlyphRenderer</b>(</div><div style=\"display: table-cell;\">id&nbsp;=&nbsp;'1037', <span id=\"1040\" style=\"cursor: pointer;\">&hellip;)</span></div></div><div class=\"1039\" style=\"display: none;\"><div style=\"display: table-cell;\"></div><div style=\"display: table-cell;\">coordinates&nbsp;=&nbsp;None,</div></div><div class=\"1039\" style=\"display: none;\"><div style=\"display: table-cell;\"></div><div style=\"display: table-cell;\">data_source&nbsp;=&nbsp;ColumnDataSource(id='1033', ...),</div></div><div class=\"1039\" style=\"display: none;\"><div style=\"display: table-cell;\"></div><div style=\"display: table-cell;\">glyph&nbsp;=&nbsp;Line(id='1034', ...),</div></div><div class=\"1039\" style=\"display: none;\"><div style=\"display: table-cell;\"></div><div style=\"display: table-cell;\">group&nbsp;=&nbsp;None,</div></div><div class=\"1039\" style=\"display: none;\"><div style=\"display: table-cell;\"></div><div style=\"display: table-cell;\">hover_glyph&nbsp;=&nbsp;None,</div></div><div class=\"1039\" style=\"display: none;\"><div style=\"display: table-cell;\"></div><div style=\"display: table-cell;\">js_event_callbacks&nbsp;=&nbsp;{},</div></div><div class=\"1039\" style=\"display: none;\"><div style=\"display: table-cell;\"></div><div style=\"display: table-cell;\">js_property_callbacks&nbsp;=&nbsp;{},</div></div><div class=\"1039\" style=\"display: none;\"><div style=\"display: table-cell;\"></div><div style=\"display: table-cell;\">level&nbsp;=&nbsp;'glyph',</div></div><div class=\"1039\" style=\"display: none;\"><div style=\"display: table-cell;\"></div><div style=\"display: table-cell;\">muted&nbsp;=&nbsp;False,</div></div><div class=\"1039\" style=\"display: none;\"><div style=\"display: table-cell;\"></div><div style=\"display: table-cell;\">muted_glyph&nbsp;=&nbsp;Line(id='1036', ...),</div></div><div class=\"1039\" style=\"display: none;\"><div style=\"display: table-cell;\"></div><div style=\"display: table-cell;\">name&nbsp;=&nbsp;None,</div></div><div class=\"1039\" style=\"display: none;\"><div style=\"display: table-cell;\"></div><div style=\"display: table-cell;\">nonselection_glyph&nbsp;=&nbsp;Line(id='1035', ...),</div></div><div class=\"1039\" style=\"display: none;\"><div style=\"display: table-cell;\"></div><div style=\"display: table-cell;\">selection_glyph&nbsp;=&nbsp;'auto',</div></div><div class=\"1039\" style=\"display: none;\"><div style=\"display: table-cell;\"></div><div style=\"display: table-cell;\">subscribed_events&nbsp;=&nbsp;[],</div></div><div class=\"1039\" style=\"display: none;\"><div style=\"display: table-cell;\"></div><div style=\"display: table-cell;\">syncable&nbsp;=&nbsp;True,</div></div><div class=\"1039\" style=\"display: none;\"><div style=\"display: table-cell;\"></div><div style=\"display: table-cell;\">tags&nbsp;=&nbsp;[],</div></div><div class=\"1039\" style=\"display: none;\"><div style=\"display: table-cell;\"></div><div style=\"display: table-cell;\">view&nbsp;=&nbsp;CDSView(id='1038', ...),</div></div><div class=\"1039\" style=\"display: none;\"><div style=\"display: table-cell;\"></div><div style=\"display: table-cell;\">visible&nbsp;=&nbsp;True,</div></div><div class=\"1039\" style=\"display: none;\"><div style=\"display: table-cell;\"></div><div style=\"display: table-cell;\">x_range_name&nbsp;=&nbsp;'default',</div></div><div class=\"1039\" style=\"display: none;\"><div style=\"display: table-cell;\"></div><div style=\"display: table-cell;\">y_range_name&nbsp;=&nbsp;'default')</div></div></div>\n",
       "<script>\n",
       "(function() {\n",
       "  let expanded = false;\n",
       "  const ellipsis = document.getElementById(\"1040\");\n",
       "  ellipsis.addEventListener(\"click\", function() {\n",
       "    const rows = document.getElementsByClassName(\"1039\");\n",
       "    for (let i = 0; i < rows.length; i++) {\n",
       "      const el = rows[i];\n",
       "      el.style.display = expanded ? \"none\" : \"table-row\";\n",
       "    }\n",
       "    ellipsis.innerHTML = expanded ? \"&hellip;)\" : \"&lsaquo;&lsaquo;&lsaquo;\";\n",
       "    expanded = !expanded;\n",
       "  });\n",
       "})();\n",
       "</script>\n"
      ],
      "text/plain": [
       "GlyphRenderer(id='1037', ...)"
      ]
     },
     "execution_count": 4,
     "metadata": {},
     "output_type": "execute_result"
    }
   ],
   "source": [
    "p.line([1, 2, 3, 4, 5], [2, 4, 6, 8, 10])"
   ]
  },
  {
   "cell_type": "markdown",
   "id": "387d64d8",
   "metadata": {},
   "source": [
    "Optionally, customize the plot attributes, such as title, axis labels, background color, etc.:"
   ]
  },
  {
   "cell_type": "code",
   "execution_count": 6,
   "id": "97651f39",
   "metadata": {},
   "outputs": [],
   "source": [
    "p.title.text = \"My Plot\"\n",
    "p.xaxis.axis_label = \"X-axis\"\n",
    "p.yaxis.axis_label = \"Y-axis\"\n",
    "p.background_fill_color = \"lightgrey\""
   ]
  },
  {
   "cell_type": "markdown",
   "id": "9a98de5e",
   "metadata": {},
   "source": [
    "Specify the output file and call show() to display the plot:"
   ]
  },
  {
   "cell_type": "code",
   "execution_count": 7,
   "id": "a375d72f",
   "metadata": {},
   "outputs": [],
   "source": [
    "output_file(\"myplot.html\")\n",
    "show(p)"
   ]
  },
  {
   "cell_type": "markdown",
   "id": "4ab4f934",
   "metadata": {},
   "source": [
    "# question 02"
   ]
  },
  {
   "cell_type": "markdown",
   "id": "5f16d414",
   "metadata": {},
   "source": [
    "In Bokeh, a glyph is a basic graphical object that represents data on a plot. Glyphs can be used to create various types of visualizations, such as lines, circles, squares, rectangles, triangles, and more. Glyphs can be added to a Bokeh plot using glyph methods, such as p.line(), p.circle(), p.square(), etc."
   ]
  },
  {
   "cell_type": "code",
   "execution_count": 8,
   "id": "189cf8fc",
   "metadata": {},
   "outputs": [],
   "source": [
    "from bokeh.plotting import figure, output_file, show\n",
    "\n",
    "# create a new figure object\n",
    "p = figure()\n",
    "\n",
    "# add a line glyph to the plot\n",
    "p.line([1, 2, 3, 4, 5], [2, 4, 6, 8, 10])\n",
    "\n",
    "# add a circle glyph to the plot\n",
    "p.circle([1, 2, 3, 4, 5], [2, 4, 6, 8, 10], size=10, fill_color='red', line_color='black')\n",
    "\n",
    "# customize the plot attributes\n",
    "p.title.text = \"My Plot\"\n",
    "p.xaxis.axis_label = \"X-axis\"\n",
    "p.yaxis.axis_label = \"Y-axis\"\n",
    "p.background_fill_color = \"lightgrey\"\n",
    "\n",
    "# specify the output file and show the plot\n",
    "output_file(\"myplot.html\")\n",
    "show(p)\n"
   ]
  },
  {
   "cell_type": "markdown",
   "id": "3d2f56d4",
   "metadata": {},
   "source": [
    "# question 03"
   ]
  },
  {
   "cell_type": "markdown",
   "id": "54569a67",
   "metadata": {},
   "source": [
    "Axes customization: You can customize the x and y-axes of a Bokeh plot using the xaxis and yaxis properties of the plot object, respectively. For example, you can change the axis labels, tick labels, and tick locations, as well as customize the axis line and tick mark properties. Here is an example:"
   ]
  },
  {
   "cell_type": "code",
   "execution_count": 9,
   "id": "2f1eef21",
   "metadata": {},
   "outputs": [],
   "source": [
    "p = figure(x_axis_label='X-axis', y_axis_label='Y-axis')\n",
    "p.xaxis.axis_label_text_color = 'red'\n",
    "p.xaxis.major_tick_line_color = 'blue'\n",
    "p.xaxis.major_tick_in = 10\n",
    "p.xaxis.major_label_text_font_size = '12pt'\n",
    "p.xaxis.major_label_orientation = 'vertical'\n",
    "\n",
    "p.yaxis.axis_label_text_color = 'green'\n",
    "p.yaxis.major_tick_line_color = 'purple'\n",
    "p.yaxis.major_tick_in = 5\n",
    "p.yaxis.major_label_text_font_size = '14pt'\n",
    "p.yaxis.major_label_orientation = 'horizontal'\n"
   ]
  },
  {
   "cell_type": "markdown",
   "id": "0a1456bd",
   "metadata": {},
   "source": [
    "Title customization: You can customize the plot title using the title property of the plot object. For example:"
   ]
  },
  {
   "cell_type": "code",
   "execution_count": 10,
   "id": "34041534",
   "metadata": {},
   "outputs": [],
   "source": [
    "p.title.text = 'My Plot'\n",
    "p.title.align = 'center'\n",
    "p.title.text_color = 'orange'\n",
    "p.title.text_font_size = '24pt'\n"
   ]
  },
  {
   "cell_type": "markdown",
   "id": "f801df5b",
   "metadata": {},
   "source": [
    "Legend customization: You can customize the legend of a Bokeh plot using the legend property of the plot object. For example, you can change the location of the legend, customize the legend title, and change the font properties of the legend text. Here is an example:"
   ]
  },
  {
   "cell_type": "code",
   "execution_count": 11,
   "id": "3fcddd54",
   "metadata": {},
   "outputs": [
    {
     "name": "stderr",
     "output_type": "stream",
     "text": [
      "C:\\ProgramData\\Anaconda3\\lib\\site-packages\\bokeh\\models\\plots.py:815: UserWarning: \n",
      "You are attempting to set `plot.legend.location` on a plot that has zero legends added, this will have no effect.\n",
      "\n",
      "Before legend properties can be set, you must add a Legend explicitly, or call a glyph method with a legend parameter set.\n",
      "\n",
      "  warnings.warn(_LEGEND_EMPTY_WARNING % attr)\n",
      "C:\\ProgramData\\Anaconda3\\lib\\site-packages\\bokeh\\models\\plots.py:815: UserWarning: \n",
      "You are attempting to set `plot.legend.title` on a plot that has zero legends added, this will have no effect.\n",
      "\n",
      "Before legend properties can be set, you must add a Legend explicitly, or call a glyph method with a legend parameter set.\n",
      "\n",
      "  warnings.warn(_LEGEND_EMPTY_WARNING % attr)\n",
      "C:\\ProgramData\\Anaconda3\\lib\\site-packages\\bokeh\\models\\plots.py:815: UserWarning: \n",
      "You are attempting to set `plot.legend.label_text_font_size` on a plot that has zero legends added, this will have no effect.\n",
      "\n",
      "Before legend properties can be set, you must add a Legend explicitly, or call a glyph method with a legend parameter set.\n",
      "\n",
      "  warnings.warn(_LEGEND_EMPTY_WARNING % attr)\n",
      "C:\\ProgramData\\Anaconda3\\lib\\site-packages\\bokeh\\models\\plots.py:815: UserWarning: \n",
      "You are attempting to set `plot.legend.label_text_color` on a plot that has zero legends added, this will have no effect.\n",
      "\n",
      "Before legend properties can be set, you must add a Legend explicitly, or call a glyph method with a legend parameter set.\n",
      "\n",
      "  warnings.warn(_LEGEND_EMPTY_WARNING % attr)\n"
     ]
    }
   ],
   "source": [
    "p.legend.location = 'top_left'\n",
    "p.legend.title = 'Legend Title'\n",
    "p.legend.label_text_font_size = '14pt'\n",
    "p.legend.label_text_color = 'black'\n"
   ]
  },
  {
   "cell_type": "markdown",
   "id": "d2ba3d20",
   "metadata": {},
   "source": [
    "# question 04"
   ]
  },
  {
   "cell_type": "markdown",
   "id": "3bdbf847",
   "metadata": {},
   "source": [
    "A Bokeh server is a Python library that allows you to create and deploy interactive web applications with Bokeh plots. It provides a way to create plots that can be updated in real time, allowing for more interactive data exploration and analysis.\n",
    "\n",
    "To use the Bokeh server, you need to first create a Bokeh plot as usual using the figure method. You can then define a function that will update the data in the plot based on user interactions, such as button clicks or slider movements. This function can be triggered by a bokeh.server event, which will update the data source and refresh the plot with the new data.\n",
    "\n",
    "Once you have defined the plot and the updating function, you can start the Bokeh server using the bokeh serve command in your terminal or command prompt. This will start a local server that will host your Bokeh application, which you can then access using your web browser.\n",
    "\n",
    "In order to embed the Bokeh server plot in a web page, you can use the bokeh.embed.server_document function. This will generate a script that can be included in an HTML page, which will load the Bokeh server application and display the interactive plot.\n",
    "\n",
    "Overall, the Bokeh server provides a powerful way to create interactive plots that can be updated in real time, allowing for more dynamic and engaging data visualizations.\n",
    "\n",
    "\n",
    "\n"
   ]
  },
  {
   "cell_type": "markdown",
   "id": "ca882dfe",
   "metadata": {},
   "source": [
    "# question 05"
   ]
  },
  {
   "cell_type": "code",
   "execution_count": 12,
   "id": "5bc11247",
   "metadata": {},
   "outputs": [
    {
     "ename": "SyntaxError",
     "evalue": "invalid syntax (1544993965.py, line 20)",
     "output_type": "error",
     "traceback": [
      "\u001b[1;36m  Input \u001b[1;32mIn [12]\u001b[1;36m\u001b[0m\n\u001b[1;33m    <!DOCTYPE html>\u001b[0m\n\u001b[1;37m    ^\u001b[0m\n\u001b[1;31mSyntaxError\u001b[0m\u001b[1;31m:\u001b[0m invalid syntax\n"
     ]
    }
   ],
   "source": [
    "from bokeh.plotting import figure\n",
    "from bokeh.resources import CDN\n",
    "from bokeh.embed import components\n",
    "\n",
    "# Create a Bokeh plot\n",
    "plot = figure(title='My Bokeh plot', x_axis_label='X', y_axis_label='Y')\n",
    "plot.circle([1, 2, 3, 4, 5], [4, 5, 6, 9, 8])\n",
    "\n",
    "# Generate the script and div tags\n",
    "script, div = components(plot, CDN)\n",
    "\n",
    "from flask import Flask, render_template\n",
    "\n",
    "app = Flask(__name__)\n",
    "\n",
    "@app.route('/')\n",
    "def index():\n",
    "    return render_template('index.html', script=script, div=div)\n",
    "\n",
    "<!DOCTYPE html>\n",
    "<html>\n",
    "  <head>\n",
    "    <title>My Flask app</title>\n",
    "    {{ script|safe }}\n",
    "  </head>\n",
    "  <body>\n",
    "    <h1>My Bokeh plot</h1>\n",
    "    {{ div|safe }}\n",
    "  </body>\n",
    "</html>\n"
   ]
  },
  {
   "cell_type": "code",
   "execution_count": null,
   "id": "704c5b20",
   "metadata": {},
   "outputs": [],
   "source": []
  }
 ],
 "metadata": {
  "kernelspec": {
   "display_name": "Python 3 (ipykernel)",
   "language": "python",
   "name": "python3"
  },
  "language_info": {
   "codemirror_mode": {
    "name": "ipython",
    "version": 3
   },
   "file_extension": ".py",
   "mimetype": "text/x-python",
   "name": "python",
   "nbconvert_exporter": "python",
   "pygments_lexer": "ipython3",
   "version": "3.9.12"
  }
 },
 "nbformat": 4,
 "nbformat_minor": 5
}
